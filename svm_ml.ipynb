{
 "cells": [
  {
   "cell_type": "code",
   "execution_count": 1,
   "metadata": {},
   "outputs": [
    {
     "data": {
      "text/plain": [
       "['DESCR', 'data', 'images', 'target', 'target_names']"
      ]
     },
     "execution_count": 1,
     "metadata": {},
     "output_type": "execute_result"
    }
   ],
   "source": [
    "import pandas as pd\n",
    "\n",
    "import matplotlib.pyplot as plt\n",
    "from sklearn.datasets import load_digits\n",
    "digit=load_digits()\n",
    "dir(digit)"
   ]
  },
  {
   "cell_type": "code",
   "execution_count": 2,
   "metadata": {},
   "outputs": [
    {
     "data": {
      "text/plain": [
       "array([[ 0.,  0.,  5., ...,  0.,  0.,  0.],\n",
       "       [ 0.,  0.,  0., ..., 10.,  0.,  0.],\n",
       "       [ 0.,  0.,  0., ..., 16.,  9.,  0.],\n",
       "       ...,\n",
       "       [ 0.,  0.,  1., ...,  6.,  0.,  0.],\n",
       "       [ 0.,  0.,  2., ..., 12.,  0.,  0.],\n",
       "       [ 0.,  0., 10., ..., 12.,  1.,  0.]])"
      ]
     },
     "execution_count": 2,
     "metadata": {},
     "output_type": "execute_result"
    }
   ],
   "source": [
    "digit.data"
   ]
  },
  {
   "cell_type": "code",
   "execution_count": 3,
   "metadata": {},
   "outputs": [
    {
     "data": {
      "text/plain": [
       "array([0, 1, 2, ..., 8, 9, 8])"
      ]
     },
     "execution_count": 3,
     "metadata": {},
     "output_type": "execute_result"
    }
   ],
   "source": [
    "digit.target"
   ]
  },
  {
   "cell_type": "code",
   "execution_count": 4,
   "metadata": {},
   "outputs": [
    {
     "data": {
      "text/plain": [
       "array([0, 1, 2, 3, 4, 5, 6, 7, 8, 9])"
      ]
     },
     "execution_count": 4,
     "metadata": {},
     "output_type": "execute_result"
    }
   ],
   "source": [
    "digit.target_names"
   ]
  },
  {
   "cell_type": "code",
   "execution_count": 46,
   "metadata": {},
   "outputs": [
    {
     "data": {
      "image/png": "[encoded data removed]",
      "text/plain": [
       "<Figure size 288x288 with 1 Axes>"
      ]
     },
     "metadata": {
      "needs_background": "light"
     },
     "output_type": "display_data"
    }
   ],
   "source": [
    "plt.matshow(digit.images[0])\n",
    "plt.gray()"
   ]
  },
  {
   "cell_type": "code",
   "execution_count": 47,
   "metadata": {},
   "outputs": [
    {
     "data": {
      "text/plain": [
       "<matplotlib.image.AxesImage at 0x2d16726c320>"
      ]
     },
     "execution_count": 47,
     "metadata": {},
     "output_type": "execute_result"
    },
    {
     "data": {
      "image/png": "[encoded data removed]",
      "text/plain": [
       "<Figure size 288x288 with 1 Axes>"
      ]
     },
     "metadata": {
      "needs_background": "light"
     },
     "output_type": "display_data"
    }
   ],
   "source": [
    "plt.matshow(digit.images[6])"
   ]
  },
  {
   "cell_type": "code",
   "execution_count": 39,
   "metadata": {},
   "outputs": [],
   "source": [
    "x=digit.data\n",
    "y=digit.target"
   ]
  },
  {
   "cell_type": "code",
   "execution_count": 41,
   "metadata": {},
   "outputs": [
    {
     "data": {
      "text/plain": [
       "array([[ 0.,  0.,  5., ...,  0.,  0.,  0.],\n",
       "       [ 0.,  0.,  0., ..., 10.,  0.,  0.],\n",
       "       [ 0.,  0.,  0., ..., 16.,  9.,  0.],\n",
       "       ...,\n",
       "       [ 0.,  0.,  1., ...,  6.,  0.,  0.],\n",
       "       [ 0.,  0.,  2., ..., 12.,  0.,  0.],\n",
       "       [ 0.,  0., 10., ..., 12.,  1.,  0.]])"
      ]
     },
     "execution_count": 41,
     "metadata": {},
     "output_type": "execute_result"
    }
   ],
   "source": [
    "x"
   ]
  },
  {
   "cell_type": "code",
   "execution_count": 42,
   "metadata": {},
   "outputs": [
    {
     "data": {
      "text/plain": [
       "array([0, 1, 2, ..., 8, 9, 8])"
      ]
     },
     "execution_count": 42,
     "metadata": {},
     "output_type": "execute_result"
    }
   ],
   "source": [
    "y"
   ]
  },
  {
   "cell_type": "code",
   "execution_count": null,
   "metadata": {},
   "outputs": [],
   "source": []
  },
  {
   "cell_type": "code",
   "execution_count": 12,
   "metadata": {},
   "outputs": [],
   "source": [
    "from sklearn.model_selection import train_test_split\n",
    "x_train,x_test,y_train,y_test=train_test_split(x,y,test_size=0.3)"
   ]
  },
  {
   "cell_type": "code",
   "execution_count": 14,
   "metadata": {},
   "outputs": [
    {
     "data": {
      "text/plain": [
       "1257"
      ]
     },
     "execution_count": 14,
     "metadata": {},
     "output_type": "execute_result"
    }
   ],
   "source": [
    "len(x_train)"
   ]
  },
  {
   "cell_type": "code",
   "execution_count": 15,
   "metadata": {},
   "outputs": [
    {
     "data": {
      "text/plain": [
       "1257"
      ]
     },
     "execution_count": 15,
     "metadata": {},
     "output_type": "execute_result"
    }
   ],
   "source": [
    "len(y_train)"
   ]
  },
  {
   "cell_type": "code",
   "execution_count": 32,
   "metadata": {},
   "outputs": [
    {
     "data": {
      "text/plain": [
       "SVC(C=50, cache_size=200, class_weight=None, coef0=0.0,\n",
       "  decision_function_shape='ovr', degree=3, gamma='auto_deprecated',\n",
       "  kernel='linear', max_iter=-1, probability=False, random_state=None,\n",
       "  shrinking=True, tol=0.001, verbose=False)"
      ]
     },
     "execution_count": 32,
     "metadata": {},
     "output_type": "execute_result"
    }
   ],
   "source": [
    "from sklearn.svm import SVC\n",
    "model=SVC(C=50,kernel='linear')\n",
    "model.fit(x_train,y_train)"
   ]
  },
  {
   "cell_type": "code",
   "execution_count": 33,
   "metadata": {},
   "outputs": [],
   "source": [
    "predicted=model.predict(x_test)"
   ]
  },
  {
   "cell_type": "code",
   "execution_count": 34,
   "metadata": {},
   "outputs": [
    {
     "data": {
      "text/plain": [
       "array([3, 0, 4, 8, 3, 2, 2, 1, 6, 8, 9, 7, 1, 4, 0, 3, 7, 0, 8, 5, 1, 7,\n",
       "       7, 9, 6, 9, 9, 5, 3, 7, 8, 9, 8, 3, 3, 0, 6, 2, 6, 2, 2, 4, 6, 8,\n",
       "       6, 9, 6, 9, 4, 5, 2, 5, 5, 8, 3, 3, 0, 9, 4, 6, 9, 2, 0, 1, 5, 2,\n",
       "       4, 1, 7, 4, 4, 4, 3, 5, 2, 5, 3, 0, 4, 9, 6, 4, 8, 6, 2, 2, 6, 0,\n",
       "       2, 6, 9, 5, 3, 9, 2, 9, 6, 6, 1, 3, 6, 8, 4, 8, 6, 7, 0, 7, 9, 4,\n",
       "       8, 5, 3, 4, 5, 5, 0, 6, 1, 3, 1, 8, 5, 5, 9, 9, 1, 3, 1, 8, 4, 1,\n",
       "       5, 3, 8, 8, 3, 7, 5, 4, 5, 1, 6, 2, 9, 9, 8, 4, 6, 7, 6, 3, 3, 1,\n",
       "       0, 8, 8, 1, 8, 9, 0, 0, 6, 0, 2, 4, 3, 9, 8, 1, 2, 6, 2, 0, 8, 4,\n",
       "       8, 1, 3, 5, 2, 4, 6, 4, 2, 1, 7, 8, 4, 0, 8, 4, 7, 6, 0, 4, 0, 9,\n",
       "       3, 3, 7, 0, 9, 8, 4, 3, 5, 3, 3, 6, 4, 1, 1, 5, 2, 0, 4, 7, 6, 6,\n",
       "       3, 0, 6, 9, 1, 2, 8, 3, 2, 2, 4, 3, 5, 0, 2, 3, 0, 2, 6, 4, 3, 9,\n",
       "       7, 0, 2, 0, 5, 1, 6, 6, 8, 2, 2, 5, 0, 6, 5, 7, 8, 4, 4, 2, 0, 1,\n",
       "       8, 6, 9, 1, 8, 5, 1, 7, 8, 5, 3, 5, 7, 6, 3, 9, 0, 4, 4, 2, 3, 0,\n",
       "       0, 7, 8, 9, 6, 3, 4, 4, 0, 9, 7, 4, 4, 6, 9, 2, 3, 3, 6, 2, 0, 5,\n",
       "       3, 8, 9, 6, 2, 7, 6, 3, 2, 6, 8, 5, 5, 5, 7, 4, 0, 0, 5, 9, 7, 2,\n",
       "       3, 3, 7, 1, 2, 7, 5, 8, 9, 1, 6, 0, 0, 9, 0, 6, 1, 0, 8, 2, 5, 1,\n",
       "       9, 0, 4, 6, 4, 6, 5, 3, 5, 2, 5, 0, 1, 9, 1, 6, 7, 6, 7, 9, 2, 0,\n",
       "       2, 1, 3, 8, 9, 6, 8, 0, 9, 3, 4, 7, 5, 1, 9, 5, 2, 2, 4, 5, 3, 1,\n",
       "       6, 7, 1, 9, 2, 6, 9, 8, 8, 3, 7, 1, 4, 1, 8, 1, 6, 5, 3, 6, 8, 3,\n",
       "       9, 2, 0, 0, 9, 9, 3, 8, 8, 5, 7, 0, 3, 4, 6, 4, 9, 8, 1, 6, 0, 9,\n",
       "       3, 5, 3, 7, 3, 6, 9, 0, 4, 5, 5, 2, 3, 4, 1, 9, 6, 3, 9, 1, 4, 3,\n",
       "       4, 0, 1, 4, 7, 2, 6, 9, 6, 3, 9, 4, 8, 8, 0, 5, 5, 0, 2, 3, 3, 8,\n",
       "       0, 3, 6, 3, 3, 9, 4, 6, 5, 5, 3, 5, 2, 1, 9, 4, 0, 1, 3, 9, 5, 5,\n",
       "       6, 4, 7, 7, 2, 2, 2, 4, 1, 1, 7, 6, 9, 9, 0, 8, 8, 5, 3, 1, 6, 3,\n",
       "       4, 4, 3, 6, 6, 5, 5, 4, 4, 6, 9, 0])"
      ]
     },
     "execution_count": 34,
     "metadata": {},
     "output_type": "execute_result"
    }
   ],
   "source": [
    "predicted"
   ]
  },
  {
   "cell_type": "code",
   "execution_count": 35,
   "metadata": {},
   "outputs": [
    {
     "data": {
      "text/plain": [
       "array([3, 0, 4, 8, 3, 2, 2, 1, 6, 8, 9, 7, 1, 4, 0, 3, 7, 0, 8, 5, 1, 7,\n",
       "       7, 9, 6, 9, 9, 5, 3, 8, 8, 9, 8, 3, 3, 0, 6, 2, 6, 2, 2, 4, 6, 8,\n",
       "       6, 9, 6, 9, 4, 5, 2, 5, 5, 8, 3, 3, 0, 5, 4, 6, 9, 2, 0, 1, 5, 2,\n",
       "       4, 1, 7, 4, 4, 4, 3, 7, 2, 5, 3, 0, 4, 9, 6, 4, 8, 6, 2, 2, 6, 0,\n",
       "       2, 6, 9, 5, 3, 9, 2, 9, 6, 6, 1, 3, 6, 8, 4, 8, 6, 7, 0, 7, 9, 4,\n",
       "       8, 5, 3, 4, 5, 5, 0, 6, 1, 3, 1, 8, 5, 5, 9, 9, 8, 3, 1, 8, 4, 1,\n",
       "       5, 3, 8, 8, 3, 7, 5, 4, 5, 1, 6, 2, 9, 9, 8, 4, 6, 7, 6, 3, 3, 1,\n",
       "       0, 8, 8, 1, 8, 9, 0, 0, 6, 0, 2, 4, 3, 9, 8, 8, 2, 6, 2, 0, 8, 4,\n",
       "       8, 1, 3, 5, 2, 4, 6, 4, 2, 1, 7, 8, 4, 0, 9, 4, 7, 6, 0, 4, 0, 8,\n",
       "       3, 3, 7, 0, 9, 8, 4, 3, 5, 3, 3, 6, 4, 1, 1, 5, 2, 0, 4, 7, 6, 6,\n",
       "       3, 0, 6, 9, 1, 2, 8, 3, 2, 2, 4, 3, 5, 0, 2, 3, 0, 2, 6, 4, 3, 9,\n",
       "       7, 0, 2, 0, 5, 1, 6, 6, 8, 2, 2, 5, 0, 6, 5, 7, 8, 4, 0, 2, 0, 1,\n",
       "       8, 6, 9, 1, 8, 5, 1, 7, 8, 5, 3, 5, 7, 6, 3, 3, 0, 4, 4, 2, 3, 0,\n",
       "       0, 7, 8, 9, 6, 5, 4, 4, 0, 9, 7, 4, 4, 6, 9, 2, 3, 3, 6, 2, 0, 5,\n",
       "       3, 8, 9, 6, 2, 7, 6, 3, 2, 6, 8, 5, 5, 5, 7, 4, 0, 0, 5, 9, 7, 2,\n",
       "       3, 3, 7, 1, 2, 7, 5, 8, 9, 1, 6, 0, 0, 9, 0, 6, 1, 0, 8, 2, 5, 1,\n",
       "       9, 0, 4, 6, 4, 6, 5, 3, 5, 2, 5, 0, 1, 9, 1, 6, 7, 6, 7, 9, 2, 0,\n",
       "       2, 1, 3, 8, 9, 6, 8, 0, 1, 3, 4, 7, 5, 1, 9, 5, 2, 2, 4, 5, 3, 1,\n",
       "       6, 7, 1, 9, 2, 6, 9, 8, 8, 3, 7, 1, 4, 1, 8, 8, 6, 5, 3, 6, 8, 3,\n",
       "       9, 2, 0, 0, 9, 9, 3, 8, 8, 5, 7, 0, 3, 4, 6, 4, 9, 8, 1, 6, 0, 9,\n",
       "       3, 5, 3, 7, 3, 6, 9, 0, 4, 5, 5, 2, 3, 4, 1, 9, 6, 3, 9, 1, 4, 3,\n",
       "       4, 0, 1, 4, 7, 2, 6, 9, 6, 3, 9, 4, 8, 8, 0, 5, 5, 0, 2, 3, 3, 8,\n",
       "       0, 3, 6, 3, 3, 9, 4, 6, 5, 5, 3, 5, 2, 1, 9, 4, 0, 1, 3, 9, 5, 5,\n",
       "       6, 4, 7, 7, 2, 2, 2, 4, 1, 1, 7, 6, 9, 9, 0, 8, 8, 5, 3, 1, 6, 3,\n",
       "       4, 4, 3, 6, 6, 5, 5, 4, 4, 6, 9, 0])"
      ]
     },
     "execution_count": 35,
     "metadata": {},
     "output_type": "execute_result"
    }
   ],
   "source": [
    "y_test"
   ]
  },
  {
   "cell_type": "code",
   "execution_count": 45,
   "metadata": {},
   "outputs": [
    {
     "data": {
      "text/plain": [
       "1.0"
      ]
     },
     "execution_count": 45,
     "metadata": {},
     "output_type": "execute_result"
    }
   ],
   "source": [
    "model.score(x_train,y_train)"
   ]
  },
  {
   "cell_type": "code",
   "execution_count": 37,
   "metadata": {},
   "outputs": [
    {
     "data": {
      "text/plain": [
       "array([[54,  0,  0,  0,  1,  0,  0,  0,  0,  0],\n",
       "       [ 0, 43,  0,  0,  0,  0,  0,  0,  0,  1],\n",
       "       [ 0,  0, 51,  0,  0,  0,  0,  0,  0,  0],\n",
       "       [ 0,  0,  0, 66,  0,  0,  0,  0,  0,  1],\n",
       "       [ 0,  0,  0,  0, 58,  0,  0,  0,  0,  0],\n",
       "       [ 0,  0,  0,  1,  0, 54,  0,  0,  0,  1],\n",
       "       [ 0,  0,  0,  0,  0,  0, 65,  0,  0,  0],\n",
       "       [ 0,  0,  0,  0,  0,  1,  0, 35,  0,  0],\n",
       "       [ 0,  3,  0,  0,  0,  0,  0,  1, 49,  1],\n",
       "       [ 0,  0,  0,  0,  0,  0,  0,  0,  1, 53]], dtype=int64)"
      ]
     },
     "execution_count": 37,
     "metadata": {},
     "output_type": "execute_result"
    }
   ],
   "source": [
    "from sklearn.metrics import confusion_matrix\n",
    "cm=confusion_matrix(y_test,predicted)\n",
    "cm"
   ]
  },
  {
   "cell_type": "code",
   "execution_count": 29,
   "metadata": {},
   "outputs": [
    {
     "data": {
      "text/plain": [
       "Text(69.0, 0.5, 'TRUTH')"
      ]
     },
     "execution_count": 29,
     "metadata": {},
     "output_type": "execute_result"
    },
    {
     "data": {
      "image/png": "[encoded data removed]",
      "text/plain": [
       "<Figure size 720x504 with 2 Axes>"
      ]
     },
     "metadata": {
      "needs_background": "light"
     },
     "output_type": "display_data"
    }
   ],
   "source": [
    "import matplotlib.pyplot as plt\n",
    "import seaborn as sb\n",
    "plt.figure(figsize=(10,7))\n",
    "sb.heatmap(cm,annot=True)\n",
    "plt.xlabel(\"PREDICTED\",color='blue')\n",
    "plt.ylabel(\"TRUTH\",color='blue')"
   ]
  },
  {
   "cell_type": "code",
   "execution_count": 1,
   "metadata": {},
   "outputs": [
    {
     "data": {
      "text/plain": [
       "['DESCR', 'data', 'images', 'target', 'target_names']"
      ]
     },
     "execution_count": 1,
     "metadata": {},
     "output_type": "execute_result"
    }
   ],
   "source": [
    "import matplotlib.pyplot as plt\n",
    "import pandas as pd\n",
    "from sklearn.datasets import load_digits\n",
    "digit=load_digits()\n",
    "dir(digit)"
   ]
  },
  {
   "cell_type": "code",
   "execution_count": 2,
   "metadata": {},
   "outputs": [
    {
     "data": {
      "text/plain": [
       "array([0, 1, 2, 3, 4, 5, 6, 7, 8, 9])"
      ]
     },
     "execution_count": 2,
     "metadata": {},
     "output_type": "execute_result"
    }
   ],
   "source": [
    "digit.target_names"
   ]
  },
  {
   "cell_type": "code",
   "execution_count": 13,
   "metadata": {},
   "outputs": [
    {
     "data": {
      "text/plain": [
       "<matplotlib.image.AxesImage at 0x2dc39aa4a90>"
      ]
     },
     "execution_count": 13,
     "metadata": {},
     "output_type": "execute_result"
    },
    {
     "data": {
      "image/png": "[encoded data removed]",
      "text/plain": [
       "<Figure size 288x288 with 1 Axes>"
      ]
     },
     "metadata": {
      "needs_background": "light"
     },
     "output_type": "display_data"
    }
   ],
   "source": [
    "plt.matshow(digit.images[5])"
   ]
  },
  {
   "cell_type": "code",
   "execution_count": 14,
   "metadata": {},
   "outputs": [
    {
     "data": {
      "text/plain": [
       "<matplotlib.image.AxesImage at 0x2dc39b3cdd8>"
      ]
     },
     "execution_count": 14,
     "metadata": {},
     "output_type": "execute_result"
    },
    {
     "data": {
      "image/png": "[encoded data removed]",
      "text/plain": [
       "<Figure size 288x288 with 1 Axes>"
      ]
     },
     "metadata": {
      "needs_background": "light"
     },
     "output_type": "display_data"
    }
   ],
   "source": [
    "plt.matshow(digit.images[0])"
   ]
  },
  {
   "cell_type": "code",
   "execution_count": 4,
   "metadata": {},
   "outputs": [],
   "source": [
    "x=digit.data\n",
    "y=digit.target"
   ]
  },
  {
   "cell_type": "code",
   "execution_count": 5,
   "metadata": {},
   "outputs": [],
   "source": [
    "from sklearn.model_selection import train_test_split\n",
    "x_train,x_test,y_train,y_test=train_test_split(x,y,test_size=0.3)"
   ]
  },
  {
   "cell_type": "code",
   "execution_count": 6,
   "metadata": {},
   "outputs": [
    {
     "name": "stderr",
     "output_type": "stream",
     "text": [
      "C:\\ProgramData\\Anaconda3\\lib\\site-packages\\sklearn\\svm\\base.py:196: FutureWarning: The default value of gamma will change from 'auto' to 'scale' in version 0.22 to account better for unscaled features. Set gamma explicitly to 'auto' or 'scale' to avoid this warning.\n",
      "  \"avoid this warning.\", FutureWarning)\n"
     ]
    },
    {
     "data": {
      "text/plain": [
       "SVC(C=50, cache_size=200, class_weight=None, coef0=0.0,\n",
       "  decision_function_shape='ovr', degree=3, gamma='auto_deprecated',\n",
       "  kernel='rbf', max_iter=-1, probability=False, random_state=None,\n",
       "  shrinking=True, tol=0.001, verbose=False)"
      ]
     },
     "execution_count": 6,
     "metadata": {},
     "output_type": "execute_result"
    }
   ],
   "source": [
    "from sklearn.svm import SVC\n",
    "model=SVC(C=50)\n",
    "model.fit(x_train,y_train)"
   ]
  },
  {
   "cell_type": "code",
   "execution_count": 8,
   "metadata": {},
   "outputs": [
    {
     "data": {
      "text/plain": [
       "0.45555555555555555"
      ]
     },
     "execution_count": 8,
     "metadata": {},
     "output_type": "execute_result"
    }
   ],
   "source": [
    "model.score(x_test,y_test)"
   ]
  },
  {
   "cell_type": "code",
   "execution_count": 10,
   "metadata": {},
   "outputs": [],
   "source": [
    "predicted=model.predict(x_test)"
   ]
  },
  {
   "cell_type": "code",
   "execution_count": 11,
   "metadata": {},
   "outputs": [
    {
     "data": {
      "text/plain": [
       "array([[28,  0,  0,  0,  0,  0,  0,  0,  0, 26],\n",
       "       [ 0, 25,  0,  0,  0,  0,  0,  0,  0, 26],\n",
       "       [ 0,  0, 20,  0,  0,  0,  0,  0,  0, 31],\n",
       "       [ 0,  0,  0, 34,  0,  0,  0,  0,  0, 17],\n",
       "       [ 0,  0,  0,  0, 17,  0,  0,  0,  0, 40],\n",
       "       [ 0,  0,  0,  0,  0, 23,  0,  0,  0, 29],\n",
       "       [ 0,  0,  0,  0,  0,  0, 27,  0,  0, 37],\n",
       "       [ 0,  0,  0,  0,  0,  0,  0, 20,  0, 38],\n",
       "       [ 0,  0,  0,  0,  0,  0,  0,  0,  4, 50],\n",
       "       [ 0,  0,  0,  0,  0,  0,  0,  0,  0, 48]], dtype=int64)"
      ]
     },
     "execution_count": 11,
     "metadata": {},
     "output_type": "execute_result"
    }
   ],
   "source": [
    "from sklearn.metrics import confusion_matrix\n",
    "cm=confusion_matrix(y_test,predicted)\n",
    "cm"
   ]
  },
  {
   "cell_type": "code",
   "execution_count": 12,
   "metadata": {},
   "outputs": [
    {
     "data": {
      "text/plain": [
       "<matplotlib.axes._subplots.AxesSubplot at 0x2dc3961a860>"
      ]
     },
     "execution_count": 12,
     "metadata": {},
     "output_type": "execute_result"
    },
    {
     "data": {
      "image/png": "[encoded data removed]",
      "text/plain": [
       "<Figure size 720x360 with 2 Axes>"
      ]
     },
     "metadata": {
      "needs_background": "light"
     },
     "output_type": "display_data"
    }
   ],
   "source": [
    "import matplotlib.pyplot as plt\n",
    "import seaborn as sb\n",
    "plt.figure(figsize=(10,5))\n",
    "sb.heatmap(cm,annot=True)"
   ]
  },
  {
   "cell_type": "code",
   "execution_count": null,
   "metadata": {},
   "outputs": [],
   "source": []
  }
 ],
 "metadata": {
  "kernelspec": {
   "display_name": "Python 3",
   "language": "python",
   "name": "python3"
  },
  "language_info": {
   "codemirror_mode": {
    "name": "ipython",
    "version": 3
   },
   "file_extension": ".py",
   "mimetype": "text/x-python",
   "name": "python",
   "nbconvert_exporter": "python",
   "pygments_lexer": "ipython3",
   "version": "3.7.1"
  }
 },
 "nbformat": 4,
 "nbformat_minor": 2
}
